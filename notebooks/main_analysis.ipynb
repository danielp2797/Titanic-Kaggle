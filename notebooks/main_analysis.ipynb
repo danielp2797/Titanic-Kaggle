{
 "cells": [
  {
   "cell_type": "markdown",
   "metadata": {},
   "source": [
    "# Table of Contents\n",
    "## 0. [Imports, data loading and initial checking](#DL)\n",
    "## 1. [Features properties](#FP)\n",
    "## 2. [Features enginering](#FE)\n",
    "## 3. [Model hipothesis and discussion](#MH)\n",
    "## 4. [Model building](#MB)\n",
    "## 5. [Model selection](#MS)\n",
    "## 6. [Conclussions](#C)\n",
    "## 7. [Submission](#S)"
   ]
  },
  {
   "cell_type": "code",
   "execution_count": 13,
   "metadata": {},
   "outputs": [],
   "source": [
    "import os\n",
    "import re\n",
    "import sys \n",
    "sys.path.insert(0, '../src/visualization/') # add the path which contains visualize\n",
    "sys.path.insert(0, '../src/data/') # add the path which containing visualize\n",
    "sys.path.insert(0, '../src/features/') # add the path which contains visualize\n",
    "\n",
    "import pandas as pd\n",
    "import numpy as np\n",
    "import seaborn as sns\n",
    "import matplotlib.pyplot as plt\n",
    "import visualize as vsl  # own visualize.py file containing every visualization scripts\n",
    "import fill_nulls as fln  # own fill_nulls.py file containing scripts to fill nan\n",
    "import build_features as bf  # own build_features.py containing the script to generate features dataset \n",
    "from titanic_submission import submit_result  # own titanic_submission.py script to automatize submissions\n",
    "\n",
    "from scipy.stats import kstest, kurtosis, shapiro, skew, boxcox\n",
    "from sklearn.model_selection import train_test_split, cross_val_score, GridSearchCV\n",
    "from sklearn.ensemble import RandomForestClassifier\n",
    "from sklearn.linear_model import LogisticRegression\n",
    "from sklearn.tree import DecisionTreeClassifier\n",
    "from sklearn import metrics\n",
    "from statsmodels.discrete.discrete_model import Logit\n",
    "from sklearn.preprocessing import StandardScaler\n",
    "from sklearn.svm import SVC\n",
    "from scipy.stats import chi2_contingency\n",
    "from scipy.stats import spearmanr"
   ]
  },
  {
   "cell_type": "code",
   "execution_count": 2,
   "metadata": {},
   "outputs": [],
   "source": [
    "plt.style.use('ggplot')\n",
    "plt.rcParams[\"figure.figsize\"] = [9,6]"
   ]
  },
  {
   "cell_type": "markdown",
   "metadata": {},
   "source": [
    "# 0. Imports, data loading and initial checking <a class=\"anchor\" id=\"DL\"></a>"
   ]
  },
  {
   "cell_type": "code",
   "execution_count": 3,
   "metadata": {},
   "outputs": [
    {
     "data": {
      "text/html": [
       "<div>\n",
       "<style scoped>\n",
       "    .dataframe tbody tr th:only-of-type {\n",
       "        vertical-align: middle;\n",
       "    }\n",
       "\n",
       "    .dataframe tbody tr th {\n",
       "        vertical-align: top;\n",
       "    }\n",
       "\n",
       "    .dataframe thead th {\n",
       "        text-align: right;\n",
       "    }\n",
       "</style>\n",
       "<table border=\"1\" class=\"dataframe\">\n",
       "  <thead>\n",
       "    <tr style=\"text-align: right;\">\n",
       "      <th></th>\n",
       "      <th>PassengerId</th>\n",
       "      <th>Survived</th>\n",
       "      <th>Pclass</th>\n",
       "      <th>Name</th>\n",
       "      <th>Sex</th>\n",
       "      <th>Age</th>\n",
       "      <th>SibSp</th>\n",
       "      <th>Parch</th>\n",
       "      <th>Ticket</th>\n",
       "      <th>Fare</th>\n",
       "      <th>Cabin</th>\n",
       "      <th>Embarked</th>\n",
       "    </tr>\n",
       "  </thead>\n",
       "  <tbody>\n",
       "    <tr>\n",
       "      <th>0</th>\n",
       "      <td>1</td>\n",
       "      <td>0</td>\n",
       "      <td>3</td>\n",
       "      <td>Braund, Mr. Owen Harris</td>\n",
       "      <td>male</td>\n",
       "      <td>22.0</td>\n",
       "      <td>1</td>\n",
       "      <td>0</td>\n",
       "      <td>A/5 21171</td>\n",
       "      <td>7.2500</td>\n",
       "      <td>NaN</td>\n",
       "      <td>S</td>\n",
       "    </tr>\n",
       "    <tr>\n",
       "      <th>1</th>\n",
       "      <td>2</td>\n",
       "      <td>1</td>\n",
       "      <td>1</td>\n",
       "      <td>Cumings, Mrs. John Bradley (Florence Briggs Th...</td>\n",
       "      <td>female</td>\n",
       "      <td>38.0</td>\n",
       "      <td>1</td>\n",
       "      <td>0</td>\n",
       "      <td>PC 17599</td>\n",
       "      <td>71.2833</td>\n",
       "      <td>C85</td>\n",
       "      <td>C</td>\n",
       "    </tr>\n",
       "    <tr>\n",
       "      <th>2</th>\n",
       "      <td>3</td>\n",
       "      <td>1</td>\n",
       "      <td>3</td>\n",
       "      <td>Heikkinen, Miss. Laina</td>\n",
       "      <td>female</td>\n",
       "      <td>26.0</td>\n",
       "      <td>0</td>\n",
       "      <td>0</td>\n",
       "      <td>STON/O2. 3101282</td>\n",
       "      <td>7.9250</td>\n",
       "      <td>NaN</td>\n",
       "      <td>S</td>\n",
       "    </tr>\n",
       "    <tr>\n",
       "      <th>3</th>\n",
       "      <td>4</td>\n",
       "      <td>1</td>\n",
       "      <td>1</td>\n",
       "      <td>Futrelle, Mrs. Jacques Heath (Lily May Peel)</td>\n",
       "      <td>female</td>\n",
       "      <td>35.0</td>\n",
       "      <td>1</td>\n",
       "      <td>0</td>\n",
       "      <td>113803</td>\n",
       "      <td>53.1000</td>\n",
       "      <td>C123</td>\n",
       "      <td>S</td>\n",
       "    </tr>\n",
       "    <tr>\n",
       "      <th>4</th>\n",
       "      <td>5</td>\n",
       "      <td>0</td>\n",
       "      <td>3</td>\n",
       "      <td>Allen, Mr. William Henry</td>\n",
       "      <td>male</td>\n",
       "      <td>35.0</td>\n",
       "      <td>0</td>\n",
       "      <td>0</td>\n",
       "      <td>373450</td>\n",
       "      <td>8.0500</td>\n",
       "      <td>NaN</td>\n",
       "      <td>S</td>\n",
       "    </tr>\n",
       "  </tbody>\n",
       "</table>\n",
       "</div>"
      ],
      "text/plain": [
       "   PassengerId  Survived  Pclass  \\\n",
       "0            1         0       3   \n",
       "1            2         1       1   \n",
       "2            3         1       3   \n",
       "3            4         1       1   \n",
       "4            5         0       3   \n",
       "\n",
       "                                                Name     Sex   Age  SibSp  \\\n",
       "0                            Braund, Mr. Owen Harris    male  22.0      1   \n",
       "1  Cumings, Mrs. John Bradley (Florence Briggs Th...  female  38.0      1   \n",
       "2                             Heikkinen, Miss. Laina  female  26.0      0   \n",
       "3       Futrelle, Mrs. Jacques Heath (Lily May Peel)  female  35.0      1   \n",
       "4                           Allen, Mr. William Henry    male  35.0      0   \n",
       "\n",
       "   Parch            Ticket     Fare Cabin Embarked  \n",
       "0      0         A/5 21171   7.2500   NaN        S  \n",
       "1      0          PC 17599  71.2833   C85        C  \n",
       "2      0  STON/O2. 3101282   7.9250   NaN        S  \n",
       "3      0            113803  53.1000  C123        S  \n",
       "4      0            373450   8.0500   NaN        S  "
      ]
     },
     "execution_count": 3,
     "metadata": {},
     "output_type": "execute_result"
    }
   ],
   "source": [
    "train_data = pd.read_csv('../data/raw/train.csv')\n",
    "train_data.head()"
   ]
  },
  {
   "cell_type": "code",
   "execution_count": 4,
   "metadata": {},
   "outputs": [
    {
     "name": "stdout",
     "output_type": "stream",
     "text": [
      "<class 'pandas.core.frame.DataFrame'>\n",
      "RangeIndex: 891 entries, 0 to 890\n",
      "Data columns (total 12 columns):\n",
      " #   Column       Non-Null Count  Dtype  \n",
      "---  ------       --------------  -----  \n",
      " 0   PassengerId  891 non-null    int64  \n",
      " 1   Survived     891 non-null    int64  \n",
      " 2   Pclass       891 non-null    int64  \n",
      " 3   Name         891 non-null    object \n",
      " 4   Sex          891 non-null    object \n",
      " 5   Age          714 non-null    float64\n",
      " 6   SibSp        891 non-null    int64  \n",
      " 7   Parch        891 non-null    int64  \n",
      " 8   Ticket       891 non-null    object \n",
      " 9   Fare         891 non-null    float64\n",
      " 10  Cabin        204 non-null    object \n",
      " 11  Embarked     889 non-null    object \n",
      "dtypes: float64(2), int64(5), object(5)\n",
      "memory usage: 83.7+ KB\n"
     ]
    }
   ],
   "source": [
    "train_data.info()"
   ]
  },
  {
   "cell_type": "markdown",
   "metadata": {},
   "source": [
    "We can see that Age, Embarked and Cabin contain null values, so, we will keep it in mind (in order to fill them) if we consider that some of these features is relevant after the properties overview."
   ]
  },
  {
   "cell_type": "markdown",
   "metadata": {},
   "source": [
    "# 1. Features properties <a class=\"anchor\" id=\"FP\"></a>"
   ]
  },
  {
   "cell_type": "markdown",
   "metadata": {},
   "source": [
    "In this section we are going to study the features properties in order to two main aspects:\n",
    "\n",
    "1. Marginal Distribution to know how a feature acts marginally \n",
    "\n",
    "2. Joint distribution with Survived to know which features are significantly related with the survivors"
   ]
  },
  {
   "cell_type": "markdown",
   "metadata": {},
   "source": [
    "The methodology is basicly take an overview with a pie chart (in the case of cathegorical features) or an histogram (in the case of numerical values), then we will plot the joint distribution with a stacked bars diagram (in the case of cathegorical features) or an histogram hued by survivor (in the case of numerical features) and in the case of cathegorical features we will perform a chi square test to check if the features are dependent (which does not means direct causality or correlation, just (in)dependance).\n",
    "\n",
    "(The correlation between cathegorical features has to be studied carefully and it will be developed carefully in a future notebook)"
   ]
  },
  {
   "cell_type": "markdown",
   "metadata": {},
   "source": [
    "## 1.1 PassengerId"
   ]
  },
  {
   "cell_type": "markdown",
   "metadata": {},
   "source": [
    "This feature seems to be a unique identifier for every passenger, but we do not need it because it matches with our dataframe indexes. It will be removed."
   ]
  },
  {
   "cell_type": "code",
   "execution_count": 5,
   "metadata": {},
   "outputs": [],
   "source": [
    "train_data.drop('PassengerId', axis=1, inplace=True)"
   ]
  },
  {
   "cell_type": "markdown",
   "metadata": {},
   "source": [
    "## 1.2 Pclass"
   ]
  },
  {
   "cell_type": "markdown",
   "metadata": {},
   "source": [
    "### MARGINAL DISTRIBUTION"
   ]
  },
  {
   "cell_type": "code",
   "execution_count": 6,
   "metadata": {},
   "outputs": [
    {
     "data": {
      "image/png": "[encoded data removed]",
      "text/plain": [
       "<Figure size 648x432 with 1 Axes>"
      ]
     },
     "metadata": {},
     "output_type": "display_data"
    }
   ],
   "source": [
    "vsl.build_pie_chart(train_data['Pclass'])"
   ]
  },
  {
   "cell_type": "markdown",
   "metadata": {},
   "source": [
    "### JOINT DISTRIBUTION WITH SURVIVED"
   ]
  },
  {
   "cell_type": "code",
   "execution_count": 7,
   "metadata": {},
   "outputs": [
    {
     "data": {
      "image/png": "[encoded data removed]",
      "text/plain": [
       "<Figure size 648x432 with 1 Axes>"
      ]
     },
     "metadata": {},
     "output_type": "display_data"
    }
   ],
   "source": [
    "vsl.build_stacked_bars_chart(train_data['Pclass'], train_data['Survived'])"
   ]
  },
  {
   "cell_type": "markdown",
   "metadata": {},
   "source": [
    "From the above graphic we can see a relation between Survived and Pclass, as we can see, when Pclass decreases survivors proportion increases."
   ]
  },
  {
   "cell_type": "code",
   "execution_count": 12,
   "metadata": {},
   "outputs": [
    {
     "data": {
      "text/plain": [
       "4.549251711298793e-23"
      ]
     },
     "execution_count": 12,
     "metadata": {},
     "output_type": "execute_result"
    }
   ],
   "source": [
    "chi_pvalue_pclass = chi2_contingency(pd.crosstab(train_data['Pclass'], train_data['Survived']))[1]\n",
    "chi_pvalue_pclass "
   ]
  },
  {
   "cell_type": "markdown",
   "metadata": {},
   "source": [
    "The Chi square test shows that the Characters Pclass and Survived are not independent, so, it could be a feature in the model."
   ]
  },
  {
   "cell_type": "markdown",
   "metadata": {},
   "source": [
    "## 1.3 Sex"
   ]
  },
  {
   "cell_type": "markdown",
   "metadata": {},
   "source": [
    "### MARGINAL DISTRIBUTION"
   ]
  },
  {
   "cell_type": "code",
   "execution_count": 8,
   "metadata": {},
   "outputs": [
    {
     "data": {
      "image/png": "[encoded data removed]",
      "text/plain": [
       "<Figure size 648x432 with 1 Axes>"
      ]
     },
     "metadata": {},
     "output_type": "display_data"
    }
   ],
   "source": [
    "vsl.build_pie_chart(train_data['Sex'])"
   ]
  },
  {
   "cell_type": "markdown",
   "metadata": {},
   "source": [
    "### JOINT DISTRIBUTION WITH SURVIVED"
   ]
  },
  {
   "cell_type": "code",
   "execution_count": 9,
   "metadata": {},
   "outputs": [
    {
     "data": {
      "image/png": "[encoded data removed]",
      "text/plain": [
       "<Figure size 648x432 with 1 Axes>"
      ]
     },
     "metadata": {},
     "output_type": "display_data"
    }
   ],
   "source": [
    "vsl.build_stacked_bars_chart(train_data['Sex'], train_data['Survived'])"
   ]
  },
  {
   "cell_type": "markdown",
   "metadata": {},
   "source": [
    "We can see that females represent aprroximately 1/3 of the passage, but, they have a significant higher probability to survive than males, so, it could be a feature in the model."
   ]
  },
  {
   "cell_type": "code",
   "execution_count": 42,
   "metadata": {},
   "outputs": [
    {
     "data": {
      "text/plain": [
       "1.1973570627755645e-58"
      ]
     },
     "execution_count": 42,
     "metadata": {},
     "output_type": "execute_result"
    }
   ],
   "source": [
    "chi_pvalue_pclass = chi2_contingency(pd.crosstab(train_data['Sex'], train_data['Survived']))[1]\n",
    "chi_pvalue_pclass "
   ]
  },
  {
   "cell_type": "markdown",
   "metadata": {},
   "source": [
    "The Chisquare Pvalue shows that the characters Sex and Survived are not independent, so it could be a feature in the model. "
   ]
  },
  {
   "cell_type": "markdown",
   "metadata": {},
   "source": [
    "## 1.4 Age"
   ]
  },
  {
   "cell_type": "markdown",
   "metadata": {},
   "source": [
    "### MARGINAL DISTRIBUTION"
   ]
  },
  {
   "cell_type": "code",
   "execution_count": 10,
   "metadata": {},
   "outputs": [
    {
     "data": {
      "image/png": "[encoded data removed]",
      "text/plain": [
       "<Figure size 648x432 with 1 Axes>"
      ]
     },
     "metadata": {},
     "output_type": "display_data"
    }
   ],
   "source": [
    "plt.hist(train_data['Age'])\n",
    "plt.title('Marginal distribution of Age')\n",
    "plt.show()"
   ]
  },
  {
   "cell_type": "markdown",
   "metadata": {},
   "source": [
    "From the above histogram we can conclude that a great majority of the passage is between 18 and 30 years approximately. It seems a distribution skewed to the right and it is not any well-known distribution. Specially, The normality assumption it is not justified as we can see in the Kolmogorov-Smirnov pvalue."
   ]
  },
  {
   "cell_type": "code",
   "execution_count": 11,
   "metadata": {},
   "outputs": [
    {
     "data": {
      "text/plain": [
       "KstestResult(statistic=0.9650366565902186, pvalue=0.0)"
      ]
     },
     "execution_count": 11,
     "metadata": {},
     "output_type": "execute_result"
    }
   ],
   "source": [
    "kstest(train_data['Age'].dropna(), 'norm')"
   ]
  },
  {
   "cell_type": "markdown",
   "metadata": {},
   "source": [
    "In spite of non normality, we can assume that the distribution is approximately symmetric as we can see in kurtosis and skew coefficients."
   ]
  },
  {
   "cell_type": "code",
   "execution_count": 12,
   "metadata": {},
   "outputs": [
    {
     "name": "stdout",
     "output_type": "stream",
     "text": [
      "kurtosis: 0.16863657224286044 skew: 0.3882898514698657\n"
     ]
    }
   ],
   "source": [
    "print('kurtosis:', kurtosis(train_data['Age'].dropna()), 'skew:', skew(train_data['Age'].dropna()))"
   ]
  },
  {
   "cell_type": "markdown",
   "metadata": {},
   "source": [
    "### JOINT DISTRIBUTION WITH SURVIVED"
   ]
  },
  {
   "cell_type": "code",
   "execution_count": 13,
   "metadata": {},
   "outputs": [
    {
     "data": {
      "text/plain": [
       "<AxesSubplot:xlabel='Age', ylabel='Count'>"
      ]
     },
     "execution_count": 13,
     "metadata": {},
     "output_type": "execute_result"
    },
    {
     "data": {
      "image/png": "[encoded data removed]",
      "text/plain": [
       "<Figure size 648x432 with 1 Axes>"
      ]
     },
     "metadata": {},
     "output_type": "display_data"
    }
   ],
   "source": [
    "sns.histplot(data=train_data, x='Age', hue='Survived')"
   ]
  },
  {
   "cell_type": "markdown",
   "metadata": {},
   "source": [
    "We can notice than childs have the highest chance to survive, and in the center of the distribution (young and middle-age persons) have approximately the same probability to survive or not. For the oldest people we can see that, in overall, nobody survived. \n",
    "\n",
    "That feature seems useful to predict survivors,so, we will include it in the model, but first, we have to implement a method to fill the null values."
   ]
  },
  {
   "cell_type": "markdown",
   "metadata": {},
   "source": [
    "## 1.5 SibSp"
   ]
  },
  {
   "cell_type": "markdown",
   "metadata": {},
   "source": [
    "### MARGINAL DISTRIBUTION"
   ]
  },
  {
   "cell_type": "code",
   "execution_count": 14,
   "metadata": {},
   "outputs": [
    {
     "data": {
      "image/png": "[encoded data removed]",
      "text/plain": [
       "<Figure size 648x432 with 1 Axes>"
      ]
     },
     "metadata": {},
     "output_type": "display_data"
    }
   ],
   "source": [
    "vsl.build_pie_chart(train_data['SibSp'])"
   ]
  },
  {
   "cell_type": "markdown",
   "metadata": {},
   "source": [
    "### JOINT DISTRIBUTION WITH SURVIVED"
   ]
  },
  {
   "cell_type": "code",
   "execution_count": 15,
   "metadata": {},
   "outputs": [
    {
     "data": {
      "image/png": "[encoded data removed]",
      "text/plain": [
       "<Figure size 648x432 with 1 Axes>"
      ]
     },
     "metadata": {},
     "output_type": "display_data"
    }
   ],
   "source": [
    "vsl.build_stacked_bars_chart(train_data['SibSp'], train_data['Survived'])"
   ]
  },
  {
   "cell_type": "markdown",
   "metadata": {},
   "source": [
    "We can see that the probability of survive decreases when SibSp increases (in overall), this feature could be included in the model."
   ]
  },
  {
   "cell_type": "code",
   "execution_count": 43,
   "metadata": {},
   "outputs": [
    {
     "data": {
      "text/plain": [
       "1.5585810465902147e-06"
      ]
     },
     "execution_count": 43,
     "metadata": {},
     "output_type": "execute_result"
    }
   ],
   "source": [
    "chi_pvalue_pclass = chi2_contingency(pd.crosstab(train_data['SibSp'], train_data['Survived']))[1]\n",
    "chi_pvalue_pclass "
   ]
  },
  {
   "cell_type": "markdown",
   "metadata": {},
   "source": [
    "The chi square test shows that the chracters SibSp and Survived are not independent, so it could be a feature in the model."
   ]
  },
  {
   "cell_type": "markdown",
   "metadata": {},
   "source": [
    "## 1.6 Parch"
   ]
  },
  {
   "cell_type": "markdown",
   "metadata": {},
   "source": [
    "### MARGINAL DISTRIBUTION"
   ]
  },
  {
   "cell_type": "code",
   "execution_count": 16,
   "metadata": {},
   "outputs": [
    {
     "data": {
      "image/png": "[encoded data removed]",
      "text/plain": [
       "<Figure size 648x432 with 1 Axes>"
      ]
     },
     "metadata": {},
     "output_type": "display_data"
    }
   ],
   "source": [
    "vsl.build_pie_chart(train_data['Parch'])"
   ]
  },
  {
   "cell_type": "markdown",
   "metadata": {},
   "source": [
    "### JOINT DISTRIBUTION WITH SURVIVED"
   ]
  },
  {
   "cell_type": "code",
   "execution_count": 17,
   "metadata": {},
   "outputs": [
    {
     "data": {
      "image/png": "[encoded data removed]",
      "text/plain": [
       "<Figure size 648x432 with 1 Axes>"
      ]
     },
     "metadata": {},
     "output_type": "display_data"
    }
   ],
   "source": [
    "vsl.build_stacked_bars_chart(train_data['Parch'], train_data['Survived'])"
   ]
  },
  {
   "cell_type": "markdown",
   "metadata": {},
   "source": [
    "From the joint distribution we can see a (slight) relation between the Parch and Survived, where Parch increases the probability of survive decreases."
   ]
  },
  {
   "cell_type": "markdown",
   "metadata": {},
   "source": [
    "*Comment*: In overall, that feature has the same relation with survived as SibSp, so, it could be a good idea merge both features in a unique feature to prevent correlation between features in the future model."
   ]
  },
  {
   "cell_type": "code",
   "execution_count": 44,
   "metadata": {},
   "outputs": [
    {
     "data": {
      "text/plain": [
       "9.703526421039997e-05"
      ]
     },
     "execution_count": 44,
     "metadata": {},
     "output_type": "execute_result"
    }
   ],
   "source": [
    "chi_pvalue_pclass = chi2_contingency(pd.crosstab(train_data['Parch'], train_data['Survived']))[1]\n",
    "chi_pvalue_pclass "
   ]
  },
  {
   "cell_type": "markdown",
   "metadata": {},
   "source": [
    "The chi square test shows that the chracters Parch and Survived are not independent, so, it could be a feature in the model."
   ]
  },
  {
   "cell_type": "markdown",
   "metadata": {},
   "source": [
    "## 1.7 Fare"
   ]
  },
  {
   "cell_type": "markdown",
   "metadata": {},
   "source": [
    "### MARGINAL DISTRIBUTION"
   ]
  },
  {
   "cell_type": "code",
   "execution_count": 18,
   "metadata": {},
   "outputs": [
    {
     "data": {
      "text/plain": [
       "<AxesSubplot:xlabel='Fare', ylabel='Count'>"
      ]
     },
     "execution_count": 18,
     "metadata": {},
     "output_type": "execute_result"
    },
    {
     "data": {
      "image/png": "[encoded data removed]",
      "text/plain": [
       "<Figure size 648x432 with 1 Axes>"
      ]
     },
     "metadata": {},
     "output_type": "display_data"
    }
   ],
   "source": [
    "sns.histplot(data=train_data, x='Fare', bins=15)"
   ]
  },
  {
   "cell_type": "markdown",
   "metadata": {},
   "source": [
    "### JOINT DISTRIBUTION WITH SURVIVED"
   ]
  },
  {
   "cell_type": "code",
   "execution_count": 19,
   "metadata": {},
   "outputs": [
    {
     "data": {
      "text/plain": [
       "<AxesSubplot:xlabel='Fare', ylabel='Count'>"
      ]
     },
     "execution_count": 19,
     "metadata": {},
     "output_type": "execute_result"
    },
    {
     "data": {
      "image/png": "[encoded data removed]",
      "text/plain": [
       "<Figure size 648x432 with 1 Axes>"
      ]
     },
     "metadata": {},
     "output_type": "display_data"
    }
   ],
   "source": [
    "sns.histplot(data=train_data, x='Fare', hue='Survived', bins=15)"
   ]
  },
  {
   "cell_type": "markdown",
   "metadata": {},
   "source": [
    "We can see that the probability of survive increases when Fare increases, so, it could be a feature in the model, but, probably, its correlated with Pclass, we have to take care if we include both features to prevent high correlations between model features."
   ]
  },
  {
   "cell_type": "markdown",
   "metadata": {},
   "source": [
    "## 1.8 Embarked"
   ]
  },
  {
   "cell_type": "markdown",
   "metadata": {},
   "source": [
    "### MARGINAL DISTRIBUTION"
   ]
  },
  {
   "cell_type": "code",
   "execution_count": 20,
   "metadata": {},
   "outputs": [
    {
     "data": {
      "image/png": "[encoded data removed]",
      "text/plain": [
       "<Figure size 648x432 with 1 Axes>"
      ]
     },
     "metadata": {},
     "output_type": "display_data"
    }
   ],
   "source": [
    "vsl.build_pie_chart(train_data['Embarked'])"
   ]
  },
  {
   "cell_type": "markdown",
   "metadata": {},
   "source": [
    "### JOINT DISTRIBUTION WITH SURVIVED"
   ]
  },
  {
   "cell_type": "code",
   "execution_count": 21,
   "metadata": {},
   "outputs": [
    {
     "data": {
      "image/png": "[encoded data removed]",
      "text/plain": [
       "<Figure size 648x432 with 1 Axes>"
      ]
     },
     "metadata": {},
     "output_type": "display_data"
    }
   ],
   "source": [
    "vsl.build_stacked_bars_chart(train_data['Embarked'], train_data['Survived'])"
   ]
  },
  {
   "cell_type": "markdown",
   "metadata": {},
   "source": [
    "We can see a slight relation between the place where the passenger embarked and the probability of survive, but it does not seem significant. We will test different models including or not this feature and we will se if it is relevant or not."
   ]
  },
  {
   "cell_type": "code",
   "execution_count": 47,
   "metadata": {},
   "outputs": [
    {
     "data": {
      "text/plain": [
       "1.769922284120912e-06"
      ]
     },
     "execution_count": 47,
     "metadata": {},
     "output_type": "execute_result"
    }
   ],
   "source": [
    "chi_pvalue_pclass = chi2_contingency(pd.crosstab(train_data['Embarked'], train_data['Survived']))[1]\n",
    "chi_pvalue_pclass"
   ]
  },
  {
   "cell_type": "markdown",
   "metadata": {},
   "source": [
    "In addition, it has null values as we can see below."
   ]
  },
  {
   "cell_type": "code",
   "execution_count": 22,
   "metadata": {},
   "outputs": [
    {
     "data": {
      "text/plain": [
       "2"
      ]
     },
     "execution_count": 22,
     "metadata": {},
     "output_type": "execute_result"
    }
   ],
   "source": [
    "train_data['Embarked'].isnull().sum()"
   ]
  },
  {
   "cell_type": "markdown",
   "metadata": {},
   "source": [
    "Due to the small number of null values we will replace it with the mode."
   ]
  },
  {
   "cell_type": "code",
   "execution_count": 23,
   "metadata": {},
   "outputs": [],
   "source": [
    "mode_embarked = train_data['Embarked'].mode()[0]"
   ]
  },
  {
   "cell_type": "code",
   "execution_count": 24,
   "metadata": {},
   "outputs": [
    {
     "data": {
      "text/plain": [
       "0"
      ]
     },
     "execution_count": 24,
     "metadata": {},
     "output_type": "execute_result"
    }
   ],
   "source": [
    "train_data.loc[train_data['Embarked'].isnull(), 'Embarked'] = mode_embarked\n",
    "train_data['Embarked'].isnull().sum()  # check if the null values are filled"
   ]
  },
  {
   "cell_type": "markdown",
   "metadata": {},
   "source": [
    "## 1.9 Name"
   ]
  },
  {
   "cell_type": "code",
   "execution_count": 25,
   "metadata": {},
   "outputs": [
    {
     "data": {
      "text/html": [
       "<div>\n",
       "<style scoped>\n",
       "    .dataframe tbody tr th:only-of-type {\n",
       "        vertical-align: middle;\n",
       "    }\n",
       "\n",
       "    .dataframe tbody tr th {\n",
       "        vertical-align: top;\n",
       "    }\n",
       "\n",
       "    .dataframe thead th {\n",
       "        text-align: right;\n",
       "    }\n",
       "</style>\n",
       "<table border=\"1\" class=\"dataframe\">\n",
       "  <thead>\n",
       "    <tr style=\"text-align: right;\">\n",
       "      <th></th>\n",
       "      <th>Survived</th>\n",
       "      <th>Pclass</th>\n",
       "      <th>Name</th>\n",
       "      <th>Sex</th>\n",
       "      <th>Age</th>\n",
       "      <th>SibSp</th>\n",
       "      <th>Parch</th>\n",
       "      <th>Ticket</th>\n",
       "      <th>Fare</th>\n",
       "      <th>Cabin</th>\n",
       "      <th>Embarked</th>\n",
       "    </tr>\n",
       "  </thead>\n",
       "  <tbody>\n",
       "    <tr>\n",
       "      <th>0</th>\n",
       "      <td>0</td>\n",
       "      <td>3</td>\n",
       "      <td>Braund, Mr. Owen Harris</td>\n",
       "      <td>male</td>\n",
       "      <td>22.0</td>\n",
       "      <td>1</td>\n",
       "      <td>0</td>\n",
       "      <td>A/5 21171</td>\n",
       "      <td>7.2500</td>\n",
       "      <td>NaN</td>\n",
       "      <td>S</td>\n",
       "    </tr>\n",
       "    <tr>\n",
       "      <th>1</th>\n",
       "      <td>1</td>\n",
       "      <td>1</td>\n",
       "      <td>Cumings, Mrs. John Bradley (Florence Briggs Th...</td>\n",
       "      <td>female</td>\n",
       "      <td>38.0</td>\n",
       "      <td>1</td>\n",
       "      <td>0</td>\n",
       "      <td>PC 17599</td>\n",
       "      <td>71.2833</td>\n",
       "      <td>C85</td>\n",
       "      <td>C</td>\n",
       "    </tr>\n",
       "    <tr>\n",
       "      <th>2</th>\n",
       "      <td>1</td>\n",
       "      <td>3</td>\n",
       "      <td>Heikkinen, Miss. Laina</td>\n",
       "      <td>female</td>\n",
       "      <td>26.0</td>\n",
       "      <td>0</td>\n",
       "      <td>0</td>\n",
       "      <td>STON/O2. 3101282</td>\n",
       "      <td>7.9250</td>\n",
       "      <td>NaN</td>\n",
       "      <td>S</td>\n",
       "    </tr>\n",
       "    <tr>\n",
       "      <th>3</th>\n",
       "      <td>1</td>\n",
       "      <td>1</td>\n",
       "      <td>Futrelle, Mrs. Jacques Heath (Lily May Peel)</td>\n",
       "      <td>female</td>\n",
       "      <td>35.0</td>\n",
       "      <td>1</td>\n",
       "      <td>0</td>\n",
       "      <td>113803</td>\n",
       "      <td>53.1000</td>\n",
       "      <td>C123</td>\n",
       "      <td>S</td>\n",
       "    </tr>\n",
       "    <tr>\n",
       "      <th>4</th>\n",
       "      <td>0</td>\n",
       "      <td>3</td>\n",
       "      <td>Allen, Mr. William Henry</td>\n",
       "      <td>male</td>\n",
       "      <td>35.0</td>\n",
       "      <td>0</td>\n",
       "      <td>0</td>\n",
       "      <td>373450</td>\n",
       "      <td>8.0500</td>\n",
       "      <td>NaN</td>\n",
       "      <td>S</td>\n",
       "    </tr>\n",
       "  </tbody>\n",
       "</table>\n",
       "</div>"
      ],
      "text/plain": [
       "   Survived  Pclass                                               Name  \\\n",
       "0         0       3                            Braund, Mr. Owen Harris   \n",
       "1         1       1  Cumings, Mrs. John Bradley (Florence Briggs Th...   \n",
       "2         1       3                             Heikkinen, Miss. Laina   \n",
       "3         1       1       Futrelle, Mrs. Jacques Heath (Lily May Peel)   \n",
       "4         0       3                           Allen, Mr. William Henry   \n",
       "\n",
       "      Sex   Age  SibSp  Parch            Ticket     Fare Cabin Embarked  \n",
       "0    male  22.0      1      0         A/5 21171   7.2500   NaN        S  \n",
       "1  female  38.0      1      0          PC 17599  71.2833   C85        C  \n",
       "2  female  26.0      0      0  STON/O2. 3101282   7.9250   NaN        S  \n",
       "3  female  35.0      1      0            113803  53.1000  C123        S  \n",
       "4    male  35.0      0      0            373450   8.0500   NaN        S  "
      ]
     },
     "execution_count": 25,
     "metadata": {},
     "output_type": "execute_result"
    }
   ],
   "source": [
    "train_data.head(5)"
   ]
  },
  {
   "cell_type": "markdown",
   "metadata": {},
   "source": [
    "In a simplistic approach, names do not seem a reason to survive a disaster, but, if we remind that we need to fill Age null values, definetly, the salutations before the surname can be very useful to locate persons in an age band. We will develop these ideas later."
   ]
  },
  {
   "cell_type": "markdown",
   "metadata": {},
   "source": [
    "## 1.10 Cabin"
   ]
  },
  {
   "cell_type": "markdown",
   "metadata": {},
   "source": [
    "It is reasonable to think that cabins distribution could be a reason to survive in order to some natural factors as the distance to the nearest safeboats or the initial hole in the boat, so, we are going to check if this feature has a relation with survived."
   ]
  },
  {
   "cell_type": "code",
   "execution_count": 26,
   "metadata": {},
   "outputs": [
    {
     "data": {
      "image/png": "[encoded data removed]",
      "text/plain": [
       "<Figure size 648x432 with 1 Axes>"
      ]
     },
     "metadata": {},
     "output_type": "display_data"
    }
   ],
   "source": [
    "vsl.build_stacked_bars_chart(train_data['Cabin'].fillna('Missing').apply(lambda x: x[:1]),\n",
    "                             train_data['Survived'].loc[train_data['Cabin'].index])"
   ]
  },
  {
   "cell_type": "markdown",
   "metadata": {},
   "source": [
    "We can see that the survive probability conditioned by the cabin first letter is different for every Cabin value, Cabins B, D and E have a higher proportion of suvivors than G, C, A. It seems to be a relation and we could include that feature in the model.\n",
    "\n",
    "Note that we have filled the null values with the Cabin label 'Missing', it could be reasonable, as we can see above, becacause a great part of the passengers who traveled in that Cabin died, so, it is natural that their Cabin is unknown. \n",
    "\n",
    "Lets check too the relation between Cabin and some other variables."
   ]
  },
  {
   "cell_type": "code",
   "execution_count": 48,
   "metadata": {},
   "outputs": [
    {
     "data": {
      "text/plain": [
       "6.326020042314704e-18"
      ]
     },
     "execution_count": 48,
     "metadata": {},
     "output_type": "execute_result"
    }
   ],
   "source": [
    "chi_pvalue_pclass = chi2_contingency(pd.crosstab(\n",
    "                            train_data['Cabin'].fillna('Missing').apply(lambda x: x[:1]),\n",
    "                             train_data['Survived'].loc[train_data['Cabin'].index]))[1]\n",
    "chi_pvalue_pclass"
   ]
  },
  {
   "cell_type": "markdown",
   "metadata": {},
   "source": [
    "The chi square test shows that the characters Cabin and Survived are not independent so it could be a feature in the model."
   ]
  },
  {
   "cell_type": "code",
   "execution_count": 27,
   "metadata": {},
   "outputs": [
    {
     "data": {
      "image/png": "[encoded data removed]",
      "text/plain": [
       "<Figure size 648x432 with 1 Axes>"
      ]
     },
     "metadata": {},
     "output_type": "display_data"
    }
   ],
   "source": [
    "vsl.build_stacked_bars_chart(train_data['Cabin'].fillna('Missing').apply(lambda x: x[:1]),\n",
    "                             train_data['Pclass'].loc[train_data['Cabin'].index])"
   ]
  },
  {
   "cell_type": "markdown",
   "metadata": {},
   "source": [
    "We notice that Cabins could be assigned by class, A, B, and C is assigned for the first class passengers, the others have mixed classes. So, we have to take care about correlation between both features."
   ]
  },
  {
   "cell_type": "markdown",
   "metadata": {},
   "source": [
    "## Conclusion"
   ]
  },
  {
   "cell_type": "markdown",
   "metadata": {},
   "source": [
    "We have seen (with the Chi Square Test) that every cathegorical feature seem not independent from Survived, so, we should not discard any feature mentioned above and study their correlations carefully. We will do it in a future notebook, but during this notebook we will assume that every feature has a significance."
   ]
  },
  {
   "cell_type": "markdown",
   "metadata": {},
   "source": [
    "# 2. Features enginering <a class=\"anchor\" id=\"FE\"></a>"
   ]
  },
  {
   "cell_type": "markdown",
   "metadata": {},
   "source": [
    "## 2.1 Name as a way to fill Age null values."
   ]
  },
  {
   "cell_type": "markdown",
   "metadata": {},
   "source": [
    "In this section, as mentioned previously, we are going to extract passengers salutations with the goal to extract their titles, in addition, it could be a good stratification feature in order to infer an age band for passengers which would allow us to fill Age null values.\n",
    "\n",
    "Let's take a look of the names format in the dataset."
   ]
  },
  {
   "cell_type": "code",
   "execution_count": 28,
   "metadata": {},
   "outputs": [
    {
     "data": {
      "text/html": [
       "<div>\n",
       "<style scoped>\n",
       "    .dataframe tbody tr th:only-of-type {\n",
       "        vertical-align: middle;\n",
       "    }\n",
       "\n",
       "    .dataframe tbody tr th {\n",
       "        vertical-align: top;\n",
       "    }\n",
       "\n",
       "    .dataframe thead th {\n",
       "        text-align: right;\n",
       "    }\n",
       "</style>\n",
       "<table border=\"1\" class=\"dataframe\">\n",
       "  <thead>\n",
       "    <tr style=\"text-align: right;\">\n",
       "      <th></th>\n",
       "      <th>Survived</th>\n",
       "      <th>Pclass</th>\n",
       "      <th>Name</th>\n",
       "      <th>Sex</th>\n",
       "      <th>Age</th>\n",
       "      <th>SibSp</th>\n",
       "      <th>Parch</th>\n",
       "      <th>Ticket</th>\n",
       "      <th>Fare</th>\n",
       "      <th>Cabin</th>\n",
       "      <th>Embarked</th>\n",
       "    </tr>\n",
       "  </thead>\n",
       "  <tbody>\n",
       "    <tr>\n",
       "      <th>0</th>\n",
       "      <td>0</td>\n",
       "      <td>3</td>\n",
       "      <td>Braund, Mr. Owen Harris</td>\n",
       "      <td>male</td>\n",
       "      <td>22.0</td>\n",
       "      <td>1</td>\n",
       "      <td>0</td>\n",
       "      <td>A/5 21171</td>\n",
       "      <td>7.2500</td>\n",
       "      <td>NaN</td>\n",
       "      <td>S</td>\n",
       "    </tr>\n",
       "    <tr>\n",
       "      <th>1</th>\n",
       "      <td>1</td>\n",
       "      <td>1</td>\n",
       "      <td>Cumings, Mrs. John Bradley (Florence Briggs Th...</td>\n",
       "      <td>female</td>\n",
       "      <td>38.0</td>\n",
       "      <td>1</td>\n",
       "      <td>0</td>\n",
       "      <td>PC 17599</td>\n",
       "      <td>71.2833</td>\n",
       "      <td>C85</td>\n",
       "      <td>C</td>\n",
       "    </tr>\n",
       "    <tr>\n",
       "      <th>2</th>\n",
       "      <td>1</td>\n",
       "      <td>3</td>\n",
       "      <td>Heikkinen, Miss. Laina</td>\n",
       "      <td>female</td>\n",
       "      <td>26.0</td>\n",
       "      <td>0</td>\n",
       "      <td>0</td>\n",
       "      <td>STON/O2. 3101282</td>\n",
       "      <td>7.9250</td>\n",
       "      <td>NaN</td>\n",
       "      <td>S</td>\n",
       "    </tr>\n",
       "    <tr>\n",
       "      <th>3</th>\n",
       "      <td>1</td>\n",
       "      <td>1</td>\n",
       "      <td>Futrelle, Mrs. Jacques Heath (Lily May Peel)</td>\n",
       "      <td>female</td>\n",
       "      <td>35.0</td>\n",
       "      <td>1</td>\n",
       "      <td>0</td>\n",
       "      <td>113803</td>\n",
       "      <td>53.1000</td>\n",
       "      <td>C123</td>\n",
       "      <td>S</td>\n",
       "    </tr>\n",
       "    <tr>\n",
       "      <th>4</th>\n",
       "      <td>0</td>\n",
       "      <td>3</td>\n",
       "      <td>Allen, Mr. William Henry</td>\n",
       "      <td>male</td>\n",
       "      <td>35.0</td>\n",
       "      <td>0</td>\n",
       "      <td>0</td>\n",
       "      <td>373450</td>\n",
       "      <td>8.0500</td>\n",
       "      <td>NaN</td>\n",
       "      <td>S</td>\n",
       "    </tr>\n",
       "  </tbody>\n",
       "</table>\n",
       "</div>"
      ],
      "text/plain": [
       "   Survived  Pclass                                               Name  \\\n",
       "0         0       3                            Braund, Mr. Owen Harris   \n",
       "1         1       1  Cumings, Mrs. John Bradley (Florence Briggs Th...   \n",
       "2         1       3                             Heikkinen, Miss. Laina   \n",
       "3         1       1       Futrelle, Mrs. Jacques Heath (Lily May Peel)   \n",
       "4         0       3                           Allen, Mr. William Henry   \n",
       "\n",
       "      Sex   Age  SibSp  Parch            Ticket     Fare Cabin Embarked  \n",
       "0    male  22.0      1      0         A/5 21171   7.2500   NaN        S  \n",
       "1  female  38.0      1      0          PC 17599  71.2833   C85        C  \n",
       "2  female  26.0      0      0  STON/O2. 3101282   7.9250   NaN        S  \n",
       "3  female  35.0      1      0            113803  53.1000  C123        S  \n",
       "4    male  35.0      0      0            373450   8.0500   NaN        S  "
      ]
     },
     "execution_count": 28,
     "metadata": {},
     "output_type": "execute_result"
    }
   ],
   "source": [
    "train_data.head()"
   ]
  },
  {
   "cell_type": "markdown",
   "metadata": {},
   "source": [
    "The format seems to be 'name, salutation. surname' so, the appropiate tool to get the salutations will be  a regex rule runned over every Name to keep the string inmediately before the points."
   ]
  },
  {
   "cell_type": "code",
   "execution_count": 29,
   "metadata": {},
   "outputs": [
    {
     "data": {
      "text/plain": [
       "Mr          0.580247\n",
       "Miss        0.204265\n",
       "Mrs         0.140292\n",
       "Master      0.044893\n",
       "Dr          0.007856\n",
       "Rev         0.006734\n",
       "Col         0.002245\n",
       "Major       0.002245\n",
       "Mlle        0.002245\n",
       "Countess    0.001122\n",
       "Lady        0.001122\n",
       "Ms          0.001122\n",
       "Mme         0.001122\n",
       "Sir         0.001122\n",
       "Capt        0.001122\n",
       "Jonkheer    0.001122\n",
       "Don         0.001122\n",
       "Name: Title, dtype: float64"
      ]
     },
     "execution_count": 29,
     "metadata": {},
     "output_type": "execute_result"
    }
   ],
   "source": [
    "train_data['Title'] = train_data.Name.str.extract('([A-Za-z]+)\\.', expand=False) \n",
    "train_data['Title'].value_counts(normalize=True)  # overview of saludations"
   ]
  },
  {
   "cell_type": "markdown",
   "metadata": {},
   "source": [
    "We can see that there common salutations such as Mr o Miss, but, we have find multiple salutations which are rare such as Countess or Jonkheer. Seems reasonable to make groups in order to the most common titles and mke and additional group containin rare titles:\n",
    "\n",
    "1. Mr and Mrs: man and women who are married\n",
    "2. Miss: women not married\n",
    "2. Master: an special title for minors. \n",
    "3. Rare: those which are not included above"
   ]
  },
  {
   "cell_type": "code",
   "execution_count": 30,
   "metadata": {},
   "outputs": [],
   "source": [
    "train_data['Title'] = train_data['Title'].apply(lambda x: \n",
    "                          1 if x in ['Mr', 'Mrs'] else \n",
    "                          (2 if x == 'Miss' else \n",
    "                           (3 if x == 'Master' else 4)))\n",
    "\n",
    "group_means = []\n",
    "\n",
    "for age_group in train_data['Title'].unique().tolist():\n",
    "    \n",
    "    group_means.append(train_data[train_data['Title'].isin([age_group])]['Age'].mean())\n",
    "    \n",
    "means_dict = dict(zip(train_data['Title'].unique().tolist(), group_means)) # dict to use with replace"
   ]
  },
  {
   "cell_type": "markdown",
   "metadata": {},
   "source": [
    "as we can see our stratification seems reasonable, every group has a different age mean."
   ]
  },
  {
   "cell_type": "code",
   "execution_count": 31,
   "metadata": {},
   "outputs": [
    {
     "data": {
      "text/html": [
       "<div>\n",
       "<style scoped>\n",
       "    .dataframe tbody tr th:only-of-type {\n",
       "        vertical-align: middle;\n",
       "    }\n",
       "\n",
       "    .dataframe tbody tr th {\n",
       "        vertical-align: top;\n",
       "    }\n",
       "\n",
       "    .dataframe thead th {\n",
       "        text-align: right;\n",
       "    }\n",
       "</style>\n",
       "<table border=\"1\" class=\"dataframe\">\n",
       "  <thead>\n",
       "    <tr style=\"text-align: right;\">\n",
       "      <th></th>\n",
       "      <th>1</th>\n",
       "      <th>2</th>\n",
       "      <th>3</th>\n",
       "      <th>4</th>\n",
       "    </tr>\n",
       "  </thead>\n",
       "  <tbody>\n",
       "    <tr>\n",
       "      <th>mean</th>\n",
       "      <td>33.121542</td>\n",
       "      <td>21.773973</td>\n",
       "      <td>4.574167</td>\n",
       "      <td>42.384615</td>\n",
       "    </tr>\n",
       "  </tbody>\n",
       "</table>\n",
       "</div>"
      ],
      "text/plain": [
       "              1          2         3          4\n",
       "mean  33.121542  21.773973  4.574167  42.384615"
      ]
     },
     "execution_count": 31,
     "metadata": {},
     "output_type": "execute_result"
    }
   ],
   "source": [
    "pd.DataFrame.from_dict(means_dict, orient='index', columns=['mean']).transpose()"
   ]
  },
  {
   "cell_type": "markdown",
   "metadata": {},
   "source": [
    "Finally we can fill the values."
   ]
  },
  {
   "cell_type": "code",
   "execution_count": 32,
   "metadata": {},
   "outputs": [
    {
     "data": {
      "text/plain": [
       "0"
      ]
     },
     "execution_count": 32,
     "metadata": {},
     "output_type": "execute_result"
    }
   ],
   "source": [
    "ages_to_fill = train_data[train_data['Age'].isnull()]['Title'].replace(means_dict)\n",
    "ages_to_fill = ages_to_fill.apply(int) # transform age into int type\n",
    "train_data.loc[ages_to_fill.index, 'Age'] = ages_to_fill\n",
    "\n",
    "train_data['Age'].isnull().sum()  # we can check that there is no null values now"
   ]
  },
  {
   "cell_type": "markdown",
   "metadata": {},
   "source": [
    "Before leave this section it could a good idea check the joint distribution of title and Survived, as we said above, Age is related with Survived, so, it is reasonable that our new feature, Title, has inherited that relation, because salutations are based in the age, experience and knowledge."
   ]
  },
  {
   "cell_type": "code",
   "execution_count": 33,
   "metadata": {},
   "outputs": [
    {
     "data": {
      "image/png": "[encoded data removed]",
      "text/plain": [
       "<Figure size 648x432 with 1 Axes>"
      ]
     },
     "metadata": {},
     "output_type": "display_data"
    }
   ],
   "source": [
    "vsl.build_stacked_bars_chart(train_data['Title'], train_data['Survived'])"
   ]
  },
  {
   "cell_type": "markdown",
   "metadata": {},
   "source": [
    "As expected, the relation is inherited, and probably, it could be a good feature rather than simply Age, we will see in the model selection."
   ]
  },
  {
   "cell_type": "markdown",
   "metadata": {},
   "source": [
    "## 2.2 Family features"
   ]
  },
  {
   "cell_type": "markdown",
   "metadata": {},
   "source": [
    "As we concluded above, SibSp and Parch can duplicate information about a passenger family status in the model, because they showed a similar relation with Survived. It could be a good idea to summarize both features in only one boolean feature that we will call Alone, which values are 1 if the passengers travles alone and 0 if the passenger travels with some family member/s."
   ]
  },
  {
   "cell_type": "code",
   "execution_count": 34,
   "metadata": {},
   "outputs": [],
   "source": [
    "train_data['Alone'] = (train_data['SibSp'] + train_data['Parch'] + 1).apply(lambda x: 0 if x!=1 else 1)"
   ]
  },
  {
   "cell_type": "markdown",
   "metadata": {},
   "source": [
    "As always, now we check the relations with Survived"
   ]
  },
  {
   "cell_type": "code",
   "execution_count": 35,
   "metadata": {},
   "outputs": [
    {
     "data": {
      "image/png": "[encoded data removed]",
      "text/plain": [
       "<Figure size 648x432 with 1 Axes>"
      ]
     },
     "metadata": {},
     "output_type": "display_data"
    }
   ],
   "source": [
    "vsl.build_stacked_bars_chart(train_data['Alone'], train_data['Survived'])"
   ]
  },
  {
   "cell_type": "markdown",
   "metadata": {},
   "source": [
    "And we can see a slight relation between both variables, we will study the feature in the model selection."
   ]
  },
  {
   "cell_type": "markdown",
   "metadata": {},
   "source": [
    "# 3. Hipothesis and analysis discussion <a class=\"anchor\" id=\"MH\"></a>"
   ]
  },
  {
   "cell_type": "markdown",
   "metadata": {},
   "source": [
    "As a conclussion from the above exploratory analysis, it seems clear that we have to solve a supervised classification problem, so, the classical techniques used in this kind of problems are: Logistic Regression, Decission Trees and his variant Random Forest.\n",
    "\n",
    "At the beginning, we will try to fit the most simple and classical models such as Logistic Regression and Decission Trees. If they do not give us good results (at least 75% of accuracy) we will try to add more complexity in order to increase the accuracy.\n",
    "\n",
    "It is clear that we are on a competition, but from the science point of view, if we have two models, one simple and other complex, and they bring us similar accuracies for example 0.76 (simple) and 0.8 (complex), there is no reason to choose the complex model, we should try to find the most simple model which is able to explain as better as possible the target feature.\n",
    "\n",
    "Probably, models builded with a lot of features have a good accuracy but they lose generality in that process, and from my point of view, a great model is that model which can perform as more general as possible, in different scenearies with the minimum number of features."
   ]
  },
  {
   "cell_type": "markdown",
   "metadata": {},
   "source": [
    "# 4. Model building <a class=\"anchor\" id=\"MB\"></a>"
   ]
  },
  {
   "cell_type": "markdown",
   "metadata": {},
   "source": [
    "In this section we are going to prepare the data in order to apply models over a prepared features dataset, we will create all necessary dummy features and copy the original dataset columns in order to prevent undesiderable modifications of the original data."
   ]
  },
  {
   "cell_type": "markdown",
   "metadata": {},
   "source": [
    "## 4.1 Features creation"
   ]
  },
  {
   "cell_type": "markdown",
   "metadata": {},
   "source": [
    "Notice that we are going to create every features that we considered relevant during the exploratory analysis but it does not mean that we will use all of them in the model, as we said, some of them can be correlated."
   ]
  },
  {
   "cell_type": "code",
   "execution_count": 36,
   "metadata": {},
   "outputs": [],
   "source": [
    "#sex featrue\n",
    "Isfemale = pd.get_dummies(train_data['Sex'])['female']\n",
    "\n",
    "# extra features from Age, not very useful\n",
    "# Isold = train_data['Old'].copy()  \n",
    "\n",
    "# SibSp features \n",
    "Isalone = train_data['Alone'].copy()\n",
    "SibSp = train_data['SibSp'].copy()\n",
    "Parch = train_data['Parch'].copy()\n",
    "\n",
    "# class features\n",
    "C1 = pd.get_dummies(train_data['Pclass'])[1]\n",
    "C2 = pd.get_dummies(train_data['Pclass'])[2]\n",
    "Pclass = train_data['Pclass']\n",
    "\n",
    "# numeric features\n",
    "scaler = StandardScaler()\n",
    "\n",
    "Age = train_data['Age'].copy()\n",
    "Age = pd.Series(scaler.fit_transform(np.array(Age).reshape(-1,1))[:, 0])\n",
    "#Age (bins)\n",
    "Age_bins = pd.cut(train_data['Age'], bins=10, labels=range(10))\n",
    "\n",
    "\n",
    "Fare = train_data['Fare'].copy()\n",
    "Fare = pd.Series(scaler.fit_transform(np.array(Fare).reshape(-1,1))[:, 0])\n",
    "\n",
    "# Fare bins\n",
    "Fare_bins = pd.cut(train_data['Fare'], bins=10, labels=range(10))\n",
    "\n",
    "# embarked features\n",
    "Isq = pd.get_dummies(train_data['Embarked'])['Q']\n",
    "Iss = pd.get_dummies(train_data['Embarked'])['S']\n",
    "\n",
    "# title features\n",
    "IsMr = train_data['Name'].apply(lambda x: 1 if 'Mr' in x else 0)\n",
    "IsMrs = train_data['Name'].apply(lambda x: 1 if 'Mrs' in x else 0)\n",
    "Isminor = pd.get_dummies(train_data['Title'])[3]\n",
    "Ismiss = pd.get_dummies(train_data['Title'])[2]\n",
    "Israre = pd.get_dummies(train_data['Title'])[4]\n",
    "\n",
    "#Cabin features\n",
    "Cabin = pd.get_dummies(train_data['Cabin'].fillna('Missing').apply(lambda x: x[:1]))\n",
    "Cabin['M'] = Cabin['M'] + Cabin['T']  # add T Cabin to M\n",
    "Cabin.drop('T', axis=1, inplace=True)  # remove Cabin T\n",
    "\n",
    "X = pd.concat([Isfemale, Isalone, C1,\n",
    "           C2, Age, Fare, Isq, Iss, IsMr, IsMrs,\n",
    "           Isminor, Ismiss, Israre, SibSp, Parch,\n",
    "               Pclass, Age_bins, Fare_bins, Cabin], axis=1, ignore_index=True)\n",
    "\n",
    "feature_names = ['Isfemale', 'Isalone', 'C1',\n",
    "           'C2', 'Age', 'Fare', 'Isq', 'Iss', 'Ismr', 'Ismrs',\n",
    "           'Isminor', 'Ismiss', 'Israre', 'SibSp', 'Parch', 'Pclass',\n",
    "                 'Age_bins', 'Fare_bins', 'CabinA','CabinB',\n",
    "                 'CabinC', 'CabinD', 'CabinE',\t'CabinF', 'CabinG', 'CabinM']\n",
    "\n",
    "X.columns = feature_names\n",
    "\n",
    "y = train_data['Survived']"
   ]
  },
  {
   "cell_type": "markdown",
   "metadata": {},
   "source": [
    "## 4.2 Running basic models"
   ]
  },
  {
   "cell_type": "markdown",
   "metadata": {},
   "source": [
    "Now we are going to discuss some feature sets in order to run different models and choose the best perfromance."
   ]
  },
  {
   "cell_type": "code",
   "execution_count": 37,
   "metadata": {},
   "outputs": [],
   "source": [
    "X_train, X_test, y_train, y_test = train_test_split(X, y, test_size=0.3, random_state=0)"
   ]
  },
  {
   "cell_type": "markdown",
   "metadata": {},
   "source": [
    "MODEL 1: Sex, Age, Fare, Pclass, SibSp, Parch, "
   ]
  },
  {
   "cell_type": "markdown",
   "metadata": {},
   "source": [
    "## DECISSION TREES"
   ]
  },
  {
   "cell_type": "code",
   "execution_count": 38,
   "metadata": {},
   "outputs": [],
   "source": [
    "def plot_cross_validation(scores):\n",
    "    \n",
    "    print('\\n')\n",
    "    plt.bar(range(len(scores)), scores)\n",
    "    plt.xlabel('folds')\n",
    "    plt.ylabel('score obtained')\n",
    "    plt.title('Cross validation result')\n",
    "    plt.hlines(np.mean(scores), xmin=0, xmax=9, linestyles='dashed', colors='black')\n",
    "    plt.legend(['mean', 'result CV'])\n",
    "    plt.show()\n",
    "\n",
    "def run_decission_tree(features):\n",
    "    \n",
    "    DT = DecisionTreeClassifier(max_depth=3, random_state=0)\n",
    "    DT.fit(X_train[features], y_train)\n",
    "\n",
    "    scores = cross_val_score(DT, X_train, y_train, cv=10)\n",
    "    print('average score CV:', np.mean(scores))\n",
    "    print('\\naccuracy_training:', DT.score(X_train[features], y_train))\n",
    "    print('\\naccuracy_testing:', DT.score(X_test[features], y_test))\n",
    "\n",
    "\n",
    "    plot_cross_validation(scores)\n",
    "    print('\\n')\n",
    "    print(pd.DataFrame(zip(features, DT.feature_importances_),columns=['feature', 'importance']))\n",
    "    DT.fit(X, y) # returns fitted model and features\n",
    "\n",
    "    return DT, features\n",
    "\n",
    "def run_logit(features):\n",
    "    \n",
    "    logit = LogisticRegression(max_iter=1000, C=5.0)\n",
    "    logit.fit(X_train[features], y_train)\n",
    "    scores = cross_val_score(logit, X_train, y_train, cv=10)\n",
    "\n",
    "    print('average score CV:', np.mean(scores))\n",
    "    print('accuracy_training:', logit.score(X_train[features], y_train))\n",
    "    print('accuracy_test:', logit.score(X_test[features], y_test))\n",
    "    \n",
    "    print('\\n')\n",
    "    plot_cross_validation(scores)\n",
    "    \n",
    "    LR = Logit(y_train, X_train[features])\n",
    "    result = LR.fit()\n",
    "    print('\\n\\n', result.summary2())\n",
    "    \n",
    "    logit.fit(X[features], y) # returns fitted model and features\n",
    "    \n",
    "    return logit, features"
   ]
  },
  {
   "cell_type": "markdown",
   "metadata": {},
   "source": [
    "As an example, we know that gender submission scores more or less a 75%"
   ]
  },
  {
   "cell_type": "code",
   "execution_count": 39,
   "metadata": {},
   "outputs": [
    {
     "name": "stdout",
     "output_type": "stream",
     "text": [
      "average score CV: 0.8009216589861751\n",
      "\n",
      "accuracy_training: 0.7865168539325843\n",
      "\n",
      "accuracy_testing: 0.7873134328358209\n",
      "\n",
      "\n"
     ]
    },
    {
     "data": {
      "image/png": "[encoded data removed]",
      "text/plain": [
       "<Figure size 648x432 with 1 Axes>"
      ]
     },
     "metadata": {},
     "output_type": "display_data"
    },
    {
     "name": "stdout",
     "output_type": "stream",
     "text": [
      "\n",
      "\n",
      "    feature  importance\n",
      "0  Isfemale         1.0\n"
     ]
    }
   ],
   "source": [
    "modelGS_feat = ['Isfemale']\n",
    "DT, features_GS = run_decission_tree(modelGS_feat)"
   ]
  },
  {
   "cell_type": "markdown",
   "metadata": {},
   "source": [
    "### Model 1: We will use just the initial features (without any enginered features) to see if they can predict at least more survivors than the gender submission."
   ]
  },
  {
   "cell_type": "markdown",
   "metadata": {},
   "source": [
    "Notice that I am not quite sure that Embarked is an useful feature and I will not include it in the first model until the complexity is requiered."
   ]
  },
  {
   "cell_type": "code",
   "execution_count": 40,
   "metadata": {},
   "outputs": [],
   "source": [
    "model1_feat = ['Isfemale', 'Pclass', 'Age', 'Fare', 'SibSp', 'Parch', \n",
    "               'CabinA', 'CabinB', 'CabinC', 'CabinD', 'CabinE', 'CabinF', 'CabinM']"
   ]
  },
  {
   "cell_type": "code",
   "execution_count": 41,
   "metadata": {
    "scrolled": true
   },
   "outputs": [
    {
     "name": "stdout",
     "output_type": "stream",
     "text": [
      "average score CV: 0.8009216589861751\n",
      "\n",
      "accuracy_training: 0.8282504012841091\n",
      "\n",
      "accuracy_testing: 0.8097014925373134\n",
      "\n",
      "\n"
     ]
    },
    {
     "data": {
      "image/png": "[encoded data removed]",
      "text/plain": [
       "<Figure size 648x432 with 1 Axes>"
      ]
     },
     "metadata": {},
     "output_type": "display_data"
    },
    {
     "name": "stdout",
     "output_type": "stream",
     "text": [
      "\n",
      "\n",
      "     feature  importance\n",
      "0   Isfemale    0.654447\n",
      "1     Pclass    0.138130\n",
      "2        Age    0.086877\n",
      "3       Fare    0.056537\n",
      "4      SibSp    0.000000\n",
      "5      Parch    0.000000\n",
      "6     CabinA    0.000000\n",
      "7     CabinB    0.000000\n",
      "8     CabinC    0.000000\n",
      "9     CabinD    0.000000\n",
      "10    CabinE    0.000000\n",
      "11    CabinF    0.000000\n",
      "12    CabinM    0.064008\n"
     ]
    }
   ],
   "source": [
    "DT, features_DT = run_decission_tree(model1_feat)"
   ]
  },
  {
   "cell_type": "markdown",
   "metadata": {},
   "source": [
    "Wee can see that Sex (Isfemale) is the most important feature, in fact, 2/3 of importance is more or less equivalent to the gender submission, so, definetly, our model does not differs too much from the gender submission.\n",
    "\n",
    "Finally, Cabins features does not seem important in the model with one exception, CabinM, the missing values of Cabin original column,so, we will remove every Cabin feature."
   ]
  },
  {
   "cell_type": "code",
   "execution_count": 42,
   "metadata": {},
   "outputs": [
    {
     "name": "stdout",
     "output_type": "stream",
     "text": [
      "average score CV: 0.8009216589861751\n",
      "\n",
      "accuracy_training: 0.8378812199036918\n",
      "\n",
      "accuracy_testing: 0.8246268656716418\n",
      "\n",
      "\n"
     ]
    },
    {
     "data": {
      "image/png": "[encoded data removed]",
      "text/plain": [
       "<Figure size 648x432 with 1 Axes>"
      ]
     },
     "metadata": {},
     "output_type": "display_data"
    },
    {
     "name": "stdout",
     "output_type": "stream",
     "text": [
      "\n",
      "\n",
      "    feature  importance\n",
      "0  Isfemale    0.608649\n",
      "1    Pclass    0.174525\n",
      "2       Age    0.066519\n",
      "3      Fare    0.052581\n",
      "4     SibSp    0.097726\n"
     ]
    }
   ],
   "source": [
    "model1_feat = ['Isfemale', 'Pclass', 'Age', 'Fare', 'SibSp']\n",
    "DT, features_DT = run_decission_tree(model1_feat)"
   ]
  },
  {
   "cell_type": "markdown",
   "metadata": {},
   "source": [
    "### model 2: Focus on add information to Isfemale feature to increase de accuracy of gender submission"
   ]
  },
  {
   "cell_type": "code",
   "execution_count": 43,
   "metadata": {},
   "outputs": [
    {
     "name": "stdout",
     "output_type": "stream",
     "text": [
      "average score CV: 0.8009216589861751\n",
      "\n",
      "accuracy_training: 0.8346709470304976\n",
      "\n",
      "accuracy_testing: 0.8208955223880597\n",
      "\n",
      "\n"
     ]
    },
    {
     "data": {
      "image/png": "[encoded data removed]",
      "text/plain": [
       "<Figure size 648x432 with 1 Axes>"
      ]
     },
     "metadata": {},
     "output_type": "display_data"
    },
    {
     "name": "stdout",
     "output_type": "stream",
     "text": [
      "\n",
      "\n",
      "    feature  importance\n",
      "0  Isfemale    0.691405\n",
      "1     SibSp    0.190145\n",
      "2     Parch    0.018881\n",
      "3   Isminor    0.065811\n",
      "4       Age    0.033758\n"
     ]
    }
   ],
   "source": [
    "model2_feat = ['Isfemale', 'SibSp', 'Parch', 'Isminor', 'Age']\n",
    "DT, features_DT2 = run_decission_tree(model2_feat)"
   ]
  },
  {
   "cell_type": "markdown",
   "metadata": {},
   "source": [
    "As we can see the empirical results are very similar to the first model. "
   ]
  },
  {
   "cell_type": "markdown",
   "metadata": {},
   "source": [
    "We can conclude that Sex is a central feature in every model, and, in order to improve our predictions, it could be a good idea to explore deeply this feature and families (or person groups) aboard the passage."
   ]
  },
  {
   "cell_type": "markdown",
   "metadata": {},
   "source": [
    "## Logistic Regression"
   ]
  },
  {
   "cell_type": "markdown",
   "metadata": {},
   "source": [
    "Now we fit a Logistic Regression over the whole set of features"
   ]
  },
  {
   "cell_type": "code",
   "execution_count": 44,
   "metadata": {},
   "outputs": [
    {
     "name": "stdout",
     "output_type": "stream",
     "text": [
      "average score CV: 0.8235279057859703\n",
      "accuracy_training: 0.8426966292134831\n",
      "accuracy_test: 0.832089552238806\n",
      "\n",
      "\n",
      "\n",
      "\n"
     ]
    },
    {
     "data": {
      "image/png": "[encoded data removed]",
      "text/plain": [
       "<Figure size 648x432 with 1 Axes>"
      ]
     },
     "metadata": {},
     "output_type": "display_data"
    },
    {
     "name": "stdout",
     "output_type": "stream",
     "text": [
      "Optimization terminated successfully.\n",
      "         Current function value: 0.397883\n",
      "         Iterations 7\n",
      "\n",
      "\n",
      "                          Results: Logit\n",
      "=================================================================\n",
      "Model:              Logit            Pseudo R-squared: 0.404     \n",
      "Dependent Variable: Survived         AIC:              533.7624  \n",
      "Date:               2020-11-29 22:33 BIC:              618.0188  \n",
      "No. Observations:   623              Log-Likelihood:   -247.88   \n",
      "Df Model:           18               LL-Null:          -416.19   \n",
      "Df Residuals:       604              LLR p-value:      1.3413e-60\n",
      "Converged:          1.0000           Scale:            1.0000    \n",
      "No. Iterations:     7.0000                                       \n",
      "------------------------------------------------------------------\n",
      "               Coef.   Std.Err.     z     P>|z|    [0.025   0.975]\n",
      "------------------------------------------------------------------\n",
      "CabinM         1.2401    0.8397   1.4768  0.1397  -0.4057   2.8858\n",
      "CabinB         1.3055    0.9564   1.3650  0.1723  -0.5691   3.1802\n",
      "Iss           -0.5278    0.3091  -1.7075  0.0877  -1.1336   0.0780\n",
      "Isminor        2.6202    1.0225   2.5625  0.0104   0.6161   4.6242\n",
      "CabinA         1.4991    1.0135   1.4792  0.1391  -0.4872   3.4855\n",
      "SibSp         -0.6826    0.1630  -4.1879  0.0000  -1.0020  -0.3631\n",
      "CabinD         2.1122    0.9850   2.1444  0.0320   0.1816   4.0427\n",
      "Isq           -0.1478    0.4823  -0.3065  0.7593  -1.0931   0.7974\n",
      "Ismrs         -1.1838    1.6259  -0.7281  0.4665  -4.3704   2.0028\n",
      "Ismr          -0.5205    0.7878  -0.6607  0.5088  -2.0646   1.0236\n",
      "Isfemale       5.1819    1.6552   3.1306  0.0017   1.9377   8.4260\n",
      "Fare           0.1911    0.1515   1.2615  0.2071  -0.1058   0.4881\n",
      "CabinF         2.3318    1.2962   1.7990  0.0720  -0.2087   4.8723\n",
      "Age           -0.4809    0.1576  -3.0511  0.0023  -0.7898  -0.1720\n",
      "CabinC         1.0628    0.8787   1.2094  0.2265  -0.6595   2.7850\n",
      "Ismiss        -2.8309    1.4451  -1.9589  0.0501  -5.6633   0.0015\n",
      "Parch         -0.3677    0.1614  -2.2782  0.0227  -0.6841  -0.0514\n",
      "Pclass        -0.8290    0.2201  -3.7660  0.0002  -1.2604  -0.3976\n",
      "CabinE         2.8297    0.9859   2.8701  0.0041   0.8973   4.7621\n",
      "=================================================================\n",
      "\n"
     ]
    }
   ],
   "source": [
    "LR, features_LR = run_logit(set(feature_names)-set(['C1', 'C2',\n",
    "                                                  'Age_bins', 'Fare_bins',\n",
    "                                                  'CabinG', 'Isalone', 'Israre']))"
   ]
  },
  {
   "cell_type": "markdown",
   "metadata": {},
   "source": [
    "We can see that cross validation and scores in training and testing are very similar, so, there is no evidence of overfitting. In addition, in overall, every coefficient is significant (Isq has a high pvalue, as expected, Embarked could not be important to classify survivors).\n",
    "\n",
    "Finally, standard errors are stable, so there is no reason to think that exists significant multicolineality in the model. It could be a good idea to make an outliers and check if the result improves, it will be done in a future notebook."
   ]
  },
  {
   "cell_type": "markdown",
   "metadata": {},
   "source": [
    "# 6. Conclussions <a class=\"anchor\" id=\"C\"></a>"
   ]
  },
  {
   "cell_type": "markdown",
   "metadata": {},
   "source": [
    "After fitting the models we can conlude that, with the actual knowledge about the data, there is no reason (from the scientific point of view) to include more complexity, because we can obtain relative high rates of accuracy with very simple models (acc $\\approx$ 0.79 -> top 10%).\n",
    "\n",
    "In another notebook, we will try more complex models in order to improve the accuracy for the competition, for example, we can try to use: Random Forest, Perceptron, Extra Tree, SVG... We will see those techniques and others in another notebook."
   ]
  },
  {
   "cell_type": "markdown",
   "metadata": {},
   "source": [
    "# 7. Submission <a class=\"anchor\" id=\"S\"></a>"
   ]
  },
  {
   "cell_type": "markdown",
   "metadata": {},
   "source": [
    "For the submission we will use the scripts, but the process is exactly the same as the above cells."
   ]
  },
  {
   "cell_type": "code",
   "execution_count": 45,
   "metadata": {},
   "outputs": [
    {
     "name": "stdout",
     "output_type": "stream",
     "text": [
      "Age null values filled successfully\n",
      "No null values found\n",
      "Embarked value filled successfully \n",
      "Fare value filled successfully\n"
     ]
    }
   ],
   "source": [
    "test = pd.read_csv('../data/raw/test.csv')\n",
    "\n",
    "fln.fill_age_values(test)\n",
    "fln.fill_embarked(test)\n",
    "fln.fill_fare_value(test)\n",
    "\n",
    "sub_features, _ = bf.build_features(test)"
   ]
  },
  {
   "cell_type": "code",
   "execution_count": null,
   "metadata": {},
   "outputs": [],
   "source": [
    "submit_result(sub_features, LR, features_LR)"
   ]
  },
  {
   "cell_type": "code",
   "execution_count": null,
   "metadata": {},
   "outputs": [],
   "source": []
  },
  {
   "cell_type": "code",
   "execution_count": null,
   "metadata": {},
   "outputs": [],
   "source": []
  }
 ],
 "metadata": {
  "kernelspec": {
   "display_name": "Python 3",
   "language": "python",
   "name": "python3"
  },
  "language_info": {
   "codemirror_mode": {
    "name": "ipython",
    "version": 3
   },
   "file_extension": ".py",
   "mimetype": "text/x-python",
   "name": "python",
   "nbconvert_exporter": "python",
   "pygments_lexer": "ipython3",
   "version": "3.8.5"
  }
 },
 "nbformat": 4,
 "nbformat_minor": 4
}
